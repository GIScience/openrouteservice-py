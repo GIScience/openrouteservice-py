{
 "cells": [
  {
   "cell_type": "markdown",
   "metadata": {},
   "source": [
    "# Route optimization of a pub crawl with ORS and `ortools`\n",
    "> Note: All notebooks need the [environment dependencies](https://github.com/GIScience/openrouteservice-examples#local-installation)\n",
    "> as well as an [openrouteservice API key](https://openrouteservice.org/dev/#/signup) to run"
   ]
  },
  {
   "cell_type": "markdown",
   "metadata": {},
   "source": [
    "It's this of the year again (or will be in 6 months):\n",
    "the freshmen pour into the institute and as the diligent student council you are, you want to welcome them for their\n",
    "geo adventure with a stately pub crawl to prepare them for the challenges lying ahead.\n",
    "\n",
    "We want to give you the opportunity to route the pack of rookies in a fairly optimal way:"
   ]
  },
  {
   "cell_type": "code",
   "execution_count": null,
   "metadata": {},
   "outputs": [],
   "source": [
    "import folium\n",
    "from shapely import wkt, geometry"
   ]
  },
  {
   "cell_type": "markdown",
   "metadata": {},
   "source": [
    "Now we're ready to start our most optimally planned pub crawl ever through hipster Kreuzberg!\n",
    "It will also be the most un-hipster pub crawl ever, as we'll cover ground with a taxi.\n",
    "At least it's safer than biking half-delirious.\n",
    "\n",
    "First the basic parameters: API key and the district polygon to limit our pub search.\n",
    "The Well Known Text was prepared in QGIS from Berlin authority's\n",
    "[WFS](http://fbinter.stadt-berlin.de/fb/wfs/geometry/senstadt/re_ortsteil/)\n",
    "(QGIS field calculator has a `geom_to_wkt` method).\n",
    "BTW, Berlin, hope you don't wonder why your feature services are so slow... Simplify is the magic word, simplify."
   ]
  },
  {
   "cell_type": "code",
   "execution_count": null,
   "metadata": {},
   "outputs": [],
   "source": [
    "wkt_str = 'Polygon ((13.43926404 52.48961046, 13.42040115 52.49586382, 13.42541101 52.48808523, 13.42368155 52.48635829, 13.40788599 52.48886084, 13.40852944 52.487142, 13.40745989 52.48614988, 13.40439187 52.48499746, 13.40154731 52.48500125, 13.40038591 52.48373202, 13.39423818 52.4838664, 13.39425346 52.48577149, 13.38629096 52.48582648, 13.38626853 52.48486362, 13.3715694 52.48495055, 13.37402099 52.4851697, 13.37416365 52.48771105, 13.37353615 52.48798191, 13.37539925 52.489432, 13.37643416 52.49167597, 13.36821531 52.49333093, 13.36952826 52.49886974, 13.37360623 52.50416333, 13.37497726 52.50337776, 13.37764916 52.5079675, 13.37893813 52.50693045, 13.39923153 52.50807711, 13.40022883 52.50938108, 13.40443425 52.50777471, 13.4052848 52.50821063, 13.40802944 52.50618019, 13.40997081 52.50692569, 13.41152096 52.50489127, 13.41407284 52.50403794, 13.41490921 52.50491634, 13.41760145 52.50417013, 13.41943091 52.50564912, 13.4230412 52.50498109, 13.42720031 52.50566607, 13.42940229 52.50857222, 13.45335235 52.49752496, 13.45090795 52.49710803, 13.44765912 52.49472124, 13.44497623 52.49442276, 13.43926404 52.48961046))'\n",
    "\n",
    "aoi_geom = wkt.loads(wkt_str)  # load geometry from WKT string\n",
    "\n",
    "aoi_coords = list(aoi_geom.exterior.coords)  # get coords from exterior ring\n",
    "aoi_coords = [(y, x) for x, y in aoi_coords]  # swap (x,y) to (y,x). Really leaflet?!\n",
    "aoi_centroid = aoi_geom.centroid  # Kreuzberg center for map center"
   ]
  },
  {
   "cell_type": "markdown",
   "metadata": {},
   "source": [
    "Next, add the Kreuzberg polygon as marker to the map, so we get a bit of orientation."
   ]
  },
  {
   "cell_type": "code",
   "execution_count": null,
   "metadata": {},
   "outputs": [],
   "source": [
    "m = folium.Map(tiles='Stamen Toner', location=(aoi_centroid.y, aoi_centroid.x), zoom_start=14)\n",
    "folium.vector_layers.Polygon(aoi_coords,\n",
    "                             color='#ffd699',\n",
    "                             fill_color='#ffd699',\n",
    "                             fill_opacity=0.2,\n",
    "                             weight=3).add_to(m)\n",
    "m"
   ]
  },
  {
   "cell_type": "markdown",
   "metadata": {},
   "source": [
    "Now it's time to see which are the lucky bars to host a bunch of increasingly drunk geos.\n",
    "We use the [**Places API**](https://openrouteservice.org/dev/#/api-docs/pois),\n",
    "where we can pass a GeoJSON as object right into.\n",
    "As we want to crawl only bars and not churches, we have to limit the query to category ID's which represent pubs.\n",
    "We can get the mapping easily when passing `category_list`:"
   ]
  },
  {
   "cell_type": "code",
   "execution_count": null,
   "metadata": {},
   "outputs": [],
   "source": [
    "import openrouteservice as ors\n",
    "\n",
    "api_key = \"your-api-key\""
   ]
  },
  {
   "cell_type": "markdown",
   "metadata": {},
   "source": [
    "[**Here**](https://giscience.github.io/openrouteservice/documentation/Places.html) is a nicer list.\n",
    "If you look for pub, you'll find it under `sustenance : 560` with ID 569.\n",
    "Chucking that into a query, yields:"
   ]
  },
  {
   "cell_type": "code",
   "execution_count": null,
   "metadata": {},
   "outputs": [],
   "source": [
    "aoi_json = geometry.mapping(geometry.shape(aoi_geom))\n",
    "\n",
    "poisApi = ors.PoisApi(ors.apiClient(apiKey=api_key))\n",
    "body = ors.OpenpoiservicePoiRequest(\n",
    "    request='pois',\n",
    "    geometry=ors.PoisGeometry(geojson=aoi_json),\n",
    "    filters=ors.PoisFilters(category_ids=[569]),\n",
    "    sortby='distance'\n",
    ")\n",
    "pubs = poisApi.pois_post(body).features\n",
    "\n",
    "# Amount of pubs in Kreuzberg\n",
    "print(\"\\nAmount of pubs: {}\".format(len(pubs)))"
   ]
  },
  {
   "cell_type": "markdown",
   "metadata": {},
   "source": [
    "Nearly 100 bars in one night might be a stretch, even for such a resilient species.\n",
    "Coincidentally, the rate of smokers is disproportionally high within the undergrad geo community.\n",
    "So, we really would like to hang out in smoker bars:"
   ]
  },
  {
   "cell_type": "code",
   "execution_count": null,
   "metadata": {},
   "outputs": [],
   "source": [
    "body.filters.smoking=['yes'] # Filter out smoker bars\n",
    "pubs_smoker = poisApi.pois_post(body).features\n",
    "\n",
    "print(\"\\nAmount of smoker pubs: {}\".format(len(pubs_smoker)))"
   ]
  },
  {
   "cell_type": "markdown",
   "metadata": {},
   "source": [
    "A bit better. Let's see where they are.\n",
    "\n",
    "**Optionally**, use the [**Geocoding API**](https://openrouteservice.org/dev/#/api-docs/geocode) to get representable names.\n",
    "Note, it'll be 25 API calls.\n",
    "Means, you can only run one per minute."
   ]
  },
  {
   "cell_type": "code",
   "execution_count": null,
   "metadata": {},
   "outputs": [],
   "source": [
    "pubs_addresses = []\n",
    "\n",
    "geocodeApi = ors.GeocodeApi(ors.apiClient(apiKey=api_key))\n",
    "\n",
    "for feat in pubs_smoker:\n",
    "    lon, lat = feat.geometry.coordinates\n",
    "    response = geocodeApi.geocode_reverse_get(lon, lat)\n",
    "    name = response.features[0][\"properties\"][\"name\"]\n",
    "    popup = \"<strong>{0}</strong><br>Lat: {1:.3f}<br>Long: {2:.3f}\".format(name, lat, lon)\n",
    "    icon = folium.map.Icon(color='lightgray',\n",
    "                           icon_color='#b5231a',\n",
    "                           icon='beer',  # fetches font-awesome.io symbols\n",
    "                           prefix='fa')\n",
    "    folium.map.Marker([lat, lon], icon=icon, popup=popup).add_to(m)\n",
    "    pubs_addresses.append(name)\n",
    "\n",
    "# folium.map.LayerControl().add_to(m)\n",
    "m"
   ]
  },
  {
   "cell_type": "markdown",
   "metadata": {},
   "source": [
    "Ok, we have an idea where we go.\n",
    "But, not in which order.\n",
    "To determine the optimal route, we first have to know the distance between all pubs.\n",
    "We can conveniently solve this with the [**Matrix API**](https://openrouteservice.org/dev/#/api-docs/matrix).\n",
    "> I'd have like to do this example for biking/walking, but I realized too late that we restricted matrix calls to 5x5 locations for those profiles..."
   ]
  },
  {
   "cell_type": "code",
   "execution_count": null,
   "metadata": {},
   "outputs": [],
   "source": [
    "pubs_coords = [feat.geometry.coordinates for feat in pubs_smoker]\n",
    "\n",
    "matrixApi = ors.MatrixServiceApi(ors.apiClient(apiKey=api_key))\n",
    "body = ors.MatrixProfileBody(\n",
    "    locations=pubs_coords,\n",
    "    metrics=['duration']\n",
    ")\n",
    "profile = 'driving-car'\n",
    "\n",
    "pubs_matrix = matrixApi.get_default(body, profile)\n",
    "\n",
    "#pubs_matrix = ors.distance_matrix(**request)\n",
    "print(\"Calculated {}x{} routes.\".format(len(pubs_matrix.durations), len(pubs_matrix.durations[0])))"
   ]
  },
  {
   "cell_type": "markdown",
   "metadata": {},
   "source": [
    "Check, 23x23. So, we got the durations now in `pubs_matrix.durations`.\n",
    "Then there's finally the great entrance of [**ortools**](https://github.com/google/or-tools).\n",
    "\n",
    "Note, this is a local search."
   ]
  },
  {
   "cell_type": "code",
   "execution_count": null,
   "metadata": {
    "scrolled": true
   },
   "outputs": [],
   "source": [
    "from ortools.constraint_solver import pywrapcp\n",
    "\n",
    "tsp_size = len(pubs_addresses)\n",
    "num_routes = 1\n",
    "start = 0  # arbitrary start location\n",
    "coords_aoi = [(y, x) for x, y in aoi_coords]  # swap (x,y) to (y,x)\n",
    "\n",
    "optimal_coords = []\n",
    "\n",
    "if tsp_size > 0:\n",
    "\n",
    "    # Old Stuff kept for reference\n",
    "    # routing = pywrapcp.RoutingModel(tsp_size, num_routes, start)\n",
    "\n",
    "    # New Way according to ortools v7.0 docs (https://developers.google.com/optimization/support/release_notes#announcing-the-release-of-or-tools-v70)\n",
    "    # manager = pywrapcp.RoutingIndexManager(num_locations, num_vehicles, depot)\n",
    "    # routing = pywrapcp.RoutingModel(manager)\n",
    "\n",
    "    # Adaption according to old and new way\n",
    "    manager = pywrapcp.RoutingIndexManager(tsp_size, num_routes, start)\n",
    "    routing = pywrapcp.RoutingModel(manager)\n",
    "\n",
    "\n",
    "    # Create the distance callback, which takes two arguments (the from and to node indices)\n",
    "    # and returns the distance between these nodes.\n",
    "    def distance_callback(from_index, to_index):\n",
    "        \"\"\"Returns the distance between the two nodes.\"\"\"\n",
    "        # Convert from routing variable Index to distance matrix NodeIndex.\n",
    "        from_node = manager.IndexToNode(from_index)\n",
    "        to_node = manager.IndexToNode(to_index)\n",
    "        return int(pubs_matrix.durations[from_node][to_node])\n",
    "\n",
    "\n",
    "    # Since v7.0, this also needs to be wrapped:\n",
    "    transit_callback_index = routing.RegisterTransitCallback(distance_callback)\n",
    "\n",
    "    routing.SetArcCostEvaluatorOfAllVehicles(transit_callback_index)\n",
    "    # Solve, returns a solution if any.\n",
    "    assignment = routing.Solve()\n",
    "    if assignment:\n",
    "        # Total cost of the 'optimal' solution.\n",
    "        print(\"Total duration: \" + str(round(assignment.ObjectiveValue(), 3) / 60) + \" minutes\\n\")\n",
    "        index = routing.Start(start)  # Index of the variable for the starting node.\n",
    "        route = ''\n",
    "        # while not routing.IsEnd(index):\n",
    "        for node in range(routing.nodes()):\n",
    "            # IndexToNode has been moved from the RoutingModel to the RoutingIndexManager\n",
    "            optimal_coords.append(pubs_coords[manager.IndexToNode(index)])\n",
    "            route += str(pubs_addresses[manager.IndexToNode(index)]) + ' -> '\n",
    "            index = assignment.Value(routing.NextVar(index))\n",
    "        route += str(pubs_addresses[manager.IndexToNode(index)])\n",
    "        optimal_coords.append(pubs_coords[manager.IndexToNode(index)])\n",
    "        print(\"Route:\\n\" + route)"
   ]
  },
  {
   "cell_type": "markdown",
   "metadata": {},
   "source": [
    "Visualizing both, the optimal route, and the more or less random waypoint order of the initial GeoJSON, look like this:"
   ]
  },
  {
   "cell_type": "code",
   "execution_count": null,
   "metadata": {},
   "outputs": [],
   "source": [
    "def style_function(color):\n",
    "    return lambda feature: dict(color=color,\n",
    "                                weight=3,\n",
    "                                opacity=1)\n",
    "\n",
    "\n",
    "# See what a 'random' tour would have been\n",
    "pubs_coords.append(pubs_coords[0])\n",
    "body = ors.DirectionsService(\n",
    "    coordinates=pubs_coords,\n",
    "    geometry=True\n",
    ")\n",
    "profile = 'driving-car'\n",
    "\n",
    "directionsApi = ors.DirectionsServiceApi(ors.apiClient(api_key))\n",
    "random_route = directionsApi.get_geo_json_route(body, profile)\n",
    "\n",
    "folium.features.GeoJson(data=ors.todict(random_route),\n",
    "                        name='Random Bar Crawl',\n",
    "                        style_function=style_function('#84e184'),\n",
    "                        overlay=True).add_to(m)\n",
    "\n",
    "# And now the optimal route\n",
    "body.coordinates = optimal_coords\n",
    "optimal_route = directionsApi.get_geo_json_route(body, profile)\n",
    "folium.features.GeoJson(data=ors.todict(optimal_route),\n",
    "                        name='Optimal Bar Crawl',\n",
    "                        style_function=style_function('#6666ff'),\n",
    "                        overlay=True).add_to(m)\n",
    "\n",
    "m.add_child(folium.map.LayerControl())\n",
    "m"
   ]
  },
  {
   "cell_type": "markdown",
   "metadata": {},
   "source": [
    "The purple route looks a bit less painful. Let's see what the actual numbers say:"
   ]
  },
  {
   "cell_type": "code",
   "execution_count": null,
   "metadata": {},
   "outputs": [],
   "source": [
    "optimal_duration = 0\n",
    "random_duration = 0\n",
    "\n",
    "optimal_duration = optimal_route.features[0]['properties']['summary']['duration'] / 60\n",
    "random_duration = random_route.features[0]['properties']['summary']['duration'] / 60\n",
    "\n",
    "print(\"Duration optimal route: {0:.3f} mins\\nDuration random route: {1:.3f} mins\".format(optimal_duration,\n",
    "                                                                                         random_duration))"
   ]
  },
  {
   "cell_type": "markdown",
   "metadata": {},
   "source": [
    "Optimizing that route saved us a good 120€ worth of taxi costs."
   ]
  }
 ],
 "metadata": {
  "jupytext": {
   "encoding": "# -*- coding: utf-8 -*-",
   "formats": "ipynb,py:light"
  },
  "kernelspec": {
   "display_name": "Python 3 (ipykernel)",
   "language": "python",
   "name": "python3"
  },
  "language_info": {
   "codemirror_mode": {
    "name": "ipython",
    "version": 3
   },
   "file_extension": ".py",
   "mimetype": "text/x-python",
   "name": "python",
   "nbconvert_exporter": "python",
   "pygments_lexer": "ipython3",
   "version": "3.11.6"
  }
 },
 "nbformat": 4,
 "nbformat_minor": 4
}
